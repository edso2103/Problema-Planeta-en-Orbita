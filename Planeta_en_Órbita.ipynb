{
  "nbformat": 4,
  "nbformat_minor": 0,
  "metadata": {
    "colab": {
      "provenance": [],
      "collapsed_sections": []
    },
    "kernelspec": {
      "name": "python3",
      "display_name": "Python 3"
    },
    "language_info": {
      "name": "python"
    }
  },
  "cells": [
    {
      "cell_type": "markdown",
      "source": [
        "<p align=\"center\">\n",
        "<FONT FACE=\"times new roman\" SIZE=5>\n",
        "<br>\n",
        "<img src=\"https://res-5.cloudinary.com/crunchbase-production/image/upload/c_lpad,h_256,w_256,f_auto,q_auto:eco/v1455514364/pim02bzqvgz0hibsra41.png\"\n",
        "width=\"200\" height=\"200\">\n",
        "</img>\n",
        "<br>\n",
        "<i><b>Docente:</b></i> John Corredor, PhD.\n",
        "<br>\n",
        "<i><b>Asignatura:</b></i> Computación Paralela\n",
        "<br>\n",
        "<i><b>Estudiante:</b></i> Edna Sofía Orjuela Puentes\n",
        "<br>\n",
        "<i><b>Tema:</b></i> Planeta en Órbita\n",
        "<br>\n",
        "09/11/22\n",
        "<br>\n",
        "</FONT>\n",
        "</p>\n",
        "</p>"
      ],
      "metadata": {
        "id": "d1SIzkhkncdR"
      }
    },
    {
      "cell_type": "markdown",
      "source": [
        "<FONT FACE=\"times new roman\" SIZE=4> **Resumen:** <br>\n",
        "*El siguiente cuaderno tiene como objetivo, analizar los resultados obtenidos de la ejecución del problema \"[Planeta en órbita\"](https://github.com/edso2103/Problema-Planeta-en-Orbita.git), con el fin de comprobar que cython presenta mayor rendimiento con respecto a python, debido a su combinación de lenguajes, c++, c y python.*"
      ],
      "metadata": {
        "id": "vEQ-hKq1uwnv"
      }
    },
    {
      "cell_type": "markdown",
      "metadata": {
        "id": "afU_jMuWGw8o"
      },
      "source": [
        "<FONT FACE=\"times new roman\" SIZE=4> **Paso 1.** *Se importan las correspondientes bibliotecas*"
      ]
    },
    {
      "cell_type": "code",
      "execution_count": 4,
      "metadata": {
        "id": "6TIzoe-nGzBd"
      },
      "outputs": [],
      "source": [
        "import pandas as pd       \n",
        "import numpy as np         \n",
        "import matplotlib.pyplot as plt   "
      ]
    },
    {
      "cell_type": "markdown",
      "source": [],
      "metadata": {
        "id": "UItmwzaswCe5"
      }
    },
    {
      "cell_type": "markdown",
      "metadata": {
        "id": "Ds2pEQQVHEIZ"
      },
      "source": [
        "<FONT FACE=\"times new roman\" SIZE=4> **Paso 2.** *Se carga el dataset en un objeto pandas \"Dataframe\"*"
      ]
    },
    {
      "cell_type": "code",
      "execution_count": 5,
      "metadata": {
        "colab": {
          "base_uri": "https://localhost:8080/",
          "height": 206
        },
        "id": "vFYX4EB3HO_H",
        "outputId": "2c4437bf-d535-4e65-beeb-58b5bc2b3a4b"
      },
      "outputs": [
        {
          "output_type": "execute_result",
          "data": {
            "text/plain": [
              "    Python   Cython\n",
              "0  1.59700  0.06058\n",
              "1  1.55195  0.05958\n",
              "2  1.58818  0.06244\n",
              "3  1.67779  0.05904\n",
              "4  1.68167  0.05941"
            ],
            "text/html": [
              "\n",
              "  <div id=\"df-426dbfcb-6dfe-4076-b824-a431bb68076f\">\n",
              "    <div class=\"colab-df-container\">\n",
              "      <div>\n",
              "<style scoped>\n",
              "    .dataframe tbody tr th:only-of-type {\n",
              "        vertical-align: middle;\n",
              "    }\n",
              "\n",
              "    .dataframe tbody tr th {\n",
              "        vertical-align: top;\n",
              "    }\n",
              "\n",
              "    .dataframe thead th {\n",
              "        text-align: right;\n",
              "    }\n",
              "</style>\n",
              "<table border=\"1\" class=\"dataframe\">\n",
              "  <thead>\n",
              "    <tr style=\"text-align: right;\">\n",
              "      <th></th>\n",
              "      <th>Python</th>\n",
              "      <th>Cython</th>\n",
              "    </tr>\n",
              "  </thead>\n",
              "  <tbody>\n",
              "    <tr>\n",
              "      <th>0</th>\n",
              "      <td>1.59700</td>\n",
              "      <td>0.06058</td>\n",
              "    </tr>\n",
              "    <tr>\n",
              "      <th>1</th>\n",
              "      <td>1.55195</td>\n",
              "      <td>0.05958</td>\n",
              "    </tr>\n",
              "    <tr>\n",
              "      <th>2</th>\n",
              "      <td>1.58818</td>\n",
              "      <td>0.06244</td>\n",
              "    </tr>\n",
              "    <tr>\n",
              "      <th>3</th>\n",
              "      <td>1.67779</td>\n",
              "      <td>0.05904</td>\n",
              "    </tr>\n",
              "    <tr>\n",
              "      <th>4</th>\n",
              "      <td>1.68167</td>\n",
              "      <td>0.05941</td>\n",
              "    </tr>\n",
              "  </tbody>\n",
              "</table>\n",
              "</div>\n",
              "      <button class=\"colab-df-convert\" onclick=\"convertToInteractive('df-426dbfcb-6dfe-4076-b824-a431bb68076f')\"\n",
              "              title=\"Convert this dataframe to an interactive table.\"\n",
              "              style=\"display:none;\">\n",
              "        \n",
              "  <svg xmlns=\"http://www.w3.org/2000/svg\" height=\"24px\"viewBox=\"0 0 24 24\"\n",
              "       width=\"24px\">\n",
              "    <path d=\"M0 0h24v24H0V0z\" fill=\"none\"/>\n",
              "    <path d=\"M18.56 5.44l.94 2.06.94-2.06 2.06-.94-2.06-.94-.94-2.06-.94 2.06-2.06.94zm-11 1L8.5 8.5l.94-2.06 2.06-.94-2.06-.94L8.5 2.5l-.94 2.06-2.06.94zm10 10l.94 2.06.94-2.06 2.06-.94-2.06-.94-.94-2.06-.94 2.06-2.06.94z\"/><path d=\"M17.41 7.96l-1.37-1.37c-.4-.4-.92-.59-1.43-.59-.52 0-1.04.2-1.43.59L10.3 9.45l-7.72 7.72c-.78.78-.78 2.05 0 2.83L4 21.41c.39.39.9.59 1.41.59.51 0 1.02-.2 1.41-.59l7.78-7.78 2.81-2.81c.8-.78.8-2.07 0-2.86zM5.41 20L4 18.59l7.72-7.72 1.47 1.35L5.41 20z\"/>\n",
              "  </svg>\n",
              "      </button>\n",
              "      \n",
              "  <style>\n",
              "    .colab-df-container {\n",
              "      display:flex;\n",
              "      flex-wrap:wrap;\n",
              "      gap: 12px;\n",
              "    }\n",
              "\n",
              "    .colab-df-convert {\n",
              "      background-color: #E8F0FE;\n",
              "      border: none;\n",
              "      border-radius: 50%;\n",
              "      cursor: pointer;\n",
              "      display: none;\n",
              "      fill: #1967D2;\n",
              "      height: 32px;\n",
              "      padding: 0 0 0 0;\n",
              "      width: 32px;\n",
              "    }\n",
              "\n",
              "    .colab-df-convert:hover {\n",
              "      background-color: #E2EBFA;\n",
              "      box-shadow: 0px 1px 2px rgba(60, 64, 67, 0.3), 0px 1px 3px 1px rgba(60, 64, 67, 0.15);\n",
              "      fill: #174EA6;\n",
              "    }\n",
              "\n",
              "    [theme=dark] .colab-df-convert {\n",
              "      background-color: #3B4455;\n",
              "      fill: #D2E3FC;\n",
              "    }\n",
              "\n",
              "    [theme=dark] .colab-df-convert:hover {\n",
              "      background-color: #434B5C;\n",
              "      box-shadow: 0px 1px 3px 1px rgba(0, 0, 0, 0.15);\n",
              "      filter: drop-shadow(0px 1px 2px rgba(0, 0, 0, 0.3));\n",
              "      fill: #FFFFFF;\n",
              "    }\n",
              "  </style>\n",
              "\n",
              "      <script>\n",
              "        const buttonEl =\n",
              "          document.querySelector('#df-426dbfcb-6dfe-4076-b824-a431bb68076f button.colab-df-convert');\n",
              "        buttonEl.style.display =\n",
              "          google.colab.kernel.accessAllowed ? 'block' : 'none';\n",
              "\n",
              "        async function convertToInteractive(key) {\n",
              "          const element = document.querySelector('#df-426dbfcb-6dfe-4076-b824-a431bb68076f');\n",
              "          const dataTable =\n",
              "            await google.colab.kernel.invokeFunction('convertToInteractive',\n",
              "                                                     [key], {});\n",
              "          if (!dataTable) return;\n",
              "\n",
              "          const docLinkHtml = 'Like what you see? Visit the ' +\n",
              "            '<a target=\"_blank\" href=https://colab.research.google.com/notebooks/data_table.ipynb>data table notebook</a>'\n",
              "            + ' to learn more about interactive tables.';\n",
              "          element.innerHTML = '';\n",
              "          dataTable['output_type'] = 'display_data';\n",
              "          await google.colab.output.renderOutput(dataTable, element);\n",
              "          const docLink = document.createElement('div');\n",
              "          docLink.innerHTML = docLinkHtml;\n",
              "          element.appendChild(docLink);\n",
              "        }\n",
              "      </script>\n",
              "    </div>\n",
              "  </div>\n",
              "  "
            ]
          },
          "metadata": {},
          "execution_count": 5
        }
      ],
      "source": [
        "url='/content/drive/MyDrive/planet.csv'\n",
        "df=pd.read_csv(url,names=['Python','Cython'])\n",
        "df.head()"
      ]
    },
    {
      "cell_type": "markdown",
      "source": [
        "<FONT FACE=\"times new roman\" SIZE=4> **Paso 3.** *Se realiza gráfica de lineas, para comparar los valores obtenidos por python y cython*"
      ],
      "metadata": {
        "id": "EQ_7eA9EtQ8M"
      }
    },
    {
      "cell_type": "code",
      "source": [
        "plt.figure(figsize = (10,6))\n",
        "s = plt.plot(df['Cython'])\n",
        "s = plt.plot(df['Python'])\n",
        "plt.ylabel(\"Intentos\")\n",
        "plt.xlabel(\"Tiempo promedio seg\")\n",
        "plt.title(\"Rendimiento python vs cython\")\n",
        "plt.grid()\n",
        "plt.show()"
      ],
      "metadata": {
        "colab": {
          "base_uri": "https://localhost:8080/",
          "height": 412
        },
        "id": "hKQmnSibqmbF",
        "outputId": "84f12a6b-2a0d-4f02-9110-3a79533edeb1"
      },
      "execution_count": 8,
      "outputs": [
        {
          "output_type": "display_data",
          "data": {
            "text/plain": [
              "<Figure size 720x432 with 1 Axes>"
            ],
            "image/png": "[encoded data removed]"
          },
          "metadata": {
            "needs_background": "light"
          }
        }
      ]
    },
    {
      "cell_type": "markdown",
      "source": [
        "<FONT FACE=\"times new roman\" SIZE=4> **Paso 4.** *Se realiza gráfica de barras, para comparar los valores obtenidos por python y cython*"
      ],
      "metadata": {
        "id": "ObHif-P8tgCr"
      }
    },
    {
      "cell_type": "code",
      "source": [
        "df.plot(kind='bar',figsize=[9,5])\n",
        "plt.xlabel(\"Tiempo promedio seg\")\n",
        "plt.ylabel(\"Número de intentos\")\n",
        "plt.title(\"Rendimiento python vs cython\")\n",
        "plt.xticks(rotation=0)\n",
        "plt.grid()\n",
        "plt.show()"
      ],
      "metadata": {
        "colab": {
          "base_uri": "https://localhost:8080/",
          "height": 350
        },
        "id": "20UGTp1Vr4Jh",
        "outputId": "e913066e-50c2-44bf-ae80-689ac5c0439f"
      },
      "execution_count": 18,
      "outputs": [
        {
          "output_type": "display_data",
          "data": {
            "text/plain": [
              "<Figure size 648x360 with 1 Axes>"
            ],
            "image/png": "[encoded data removed]"
          },
          "metadata": {
            "needs_background": "light"
          }
        }
      ]
    },
    {
      "cell_type": "markdown",
      "source": [
        "<FONT FACE=\"times new roman\" SIZE=4> **Conclusiones:** <br>\n",
        "De lo anterior se puede afirmar que:\n",
        "* Cython es un compilador que traduce el código fuente a un programa de C y C++, más eficiente.\n",
        "* Cython se sitúa entre un lenguaje medio, ya que combina python como alto nivel y c como bajo nivel.\n",
        "* Cython permite llamar funciones directamente desde el código\n",
        "* Cython ofrece mayor rendimiento que python,debido a los ajustes y modificaciones realizados en las declaraciones, bucles, etc\n",
        "* Se presenta un tradeoff, en el que se puede obtener la velocidad de C manteniendo la simplicidad de sintaxis de python, pero a cambio se puede ver afectada la precisión al buscar rendimiento.\n",
        "\n",
        "\n"
      ],
      "metadata": {
        "id": "IWcrM6qyu1Wf"
      }
    },
    {
      "cell_type": "markdown",
      "source": [
        "<FONT FACE=\"times new roman\" SIZE=4> **Referencias:** <br>\n",
        "* colaboradores de Wikipedia. (2022, 14 octubre). Cython. Wikipedia, la enciclopedia libre. https://es.wikipedia.org/wiki/Cython \n",
        "* Optimizando Python con Cython. (2022, 22 febrero). INLOC Robotics. https://inlocrobotics.com/es/optimizando-python-con-cython/"
      ],
      "metadata": {
        "id": "44hT2uTmyy-M"
      }
    }
  ]
}